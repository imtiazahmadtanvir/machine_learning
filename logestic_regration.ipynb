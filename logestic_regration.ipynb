{
  "nbformat": 4,
  "nbformat_minor": 0,
  "metadata": {
    "colab": {
      "provenance": [],
      "authorship_tag": "ABX9TyNj03zo3Kpq8p4dWlq4I2rL",
      "include_colab_link": true
    },
    "kernelspec": {
      "name": "python3",
      "display_name": "Python 3"
    },
    "language_info": {
      "name": "python"
    }
  },
  "cells": [
    {
      "cell_type": "markdown",
      "metadata": {
        "id": "view-in-github",
        "colab_type": "text"
      },
      "source": [
        "<a href=\"https://colab.research.google.com/github/imtiazahmadtanvir/machine_learning/blob/main/logestic_regration.ipynb\" target=\"_parent\"><img src=\"https://colab.research.google.com/assets/colab-badge.svg\" alt=\"Open In Colab\"/></a>"
      ]
    },
    {
      "cell_type": "markdown",
      "source": [
        "Step 1: Import Libraries"
      ],
      "metadata": {
        "id": "9v-hPxyrGLJX"
      }
    },
    {
      "cell_type": "code",
      "execution_count": 3,
      "metadata": {
        "id": "IjzzSrXX921r"
      },
      "outputs": [],
      "source": [
        "import numpy as np\n",
        "import matplotlib.pyplot as plt\n",
        "from sklearn.datasets import make_classification\n",
        "from sklearn.linear_model import LogisticRegression"
      ]
    },
    {
      "cell_type": "markdown",
      "source": [
        "Step 2: Create Dataset"
      ],
      "metadata": {
        "id": "g5HTen7VGUtn"
      }
    },
    {
      "cell_type": "markdown",
      "source": [],
      "metadata": {
        "id": "y2ja2dJ3GVX-"
      }
    },
    {
      "cell_type": "code",
      "source": [
        "# Create dataset with 10 samples and 2 features\n",
        "X, y = make_classification(\n",
        "    n_samples=10,\n",
        "    n_features=2,\n",
        "    n_redundant=0,\n",
        "    n_informative=2,\n",
        "    n_clusters_per_class=1,\n",
        "    random_state=1\n",
        ")\n",
        "\n",
        "print(\"X:\\n\", X)\n",
        "print(\"y:\\n\", y)\n"
      ],
      "metadata": {
        "colab": {
          "base_uri": "https://localhost:8080/"
        },
        "id": "5nlN65M0_bV3",
        "outputId": "1684a39c-f000-44ba-9a2e-09f6bb7ecca5"
      },
      "execution_count": 4,
      "outputs": [
        {
          "output_type": "stream",
          "name": "stdout",
          "text": [
            "X:\n",
            " [[-0.64185521  0.78535215]\n",
            " [ 0.10972634  1.83671408]\n",
            " [-1.07362634  2.591487  ]\n",
            " [-1.38222372  0.85340843]\n",
            " [ 1.78689446  2.3841826 ]\n",
            " [ 0.94785273  3.53015683]\n",
            " [ 1.08876018  1.35925144]\n",
            " [ 0.42774158  3.54015499]\n",
            " [-0.88398194 -0.57876171]\n",
            " [-1.59347411  1.2168913 ]]\n",
            "y:\n",
            " [1 0 1 1 0 0 0 0 1 1]\n"
          ]
        }
      ]
    },
    {
      "cell_type": "markdown",
      "source": [
        "Step 3: Plot Dataset"
      ],
      "metadata": {
        "id": "XcatOe5lGclx"
      }
    },
    {
      "cell_type": "code",
      "source": [
        "plt.scatter(X[:, 0], X[:, 1], c=y, s=40, cmap=plt.cm.Spectral, edgecolors='black')\n",
        "plt.xlabel(\"$X_1$\")\n",
        "plt.ylabel(\"$X_2$\")\n",
        "plt.title(\"Input Data (Binary Classification)\")\n",
        "plt.show()\n"
      ],
      "metadata": {
        "colab": {
          "base_uri": "https://localhost:8080/",
          "height": 474
        },
        "id": "Sqx9MV4__d-j",
        "outputId": "e6f69bbf-4dfa-4f2a-84a2-fc0dd1c8b8a9"
      },
      "execution_count": 5,
      "outputs": [
        {
          "output_type": "display_data",
          "data": {
            "text/plain": [
              "<Figure size 640x480 with 1 Axes>"
            ],
            "image/png": "[encoded data removed]"
          },
          "metadata": {}
        }
      ]
    },
    {
      "cell_type": "markdown",
      "source": [
        "Step 4: Define Helper Functions"
      ],
      "metadata": {
        "id": "KLgpyax4Gfwa"
      }
    },
    {
      "cell_type": "code",
      "source": [
        "def add_intercept(X):\n",
        "    intercept = np.ones((X.shape[0], 1))\n",
        "    return np.concatenate((intercept, X), axis=1)\n",
        "\n",
        "def sigmoid(z):\n",
        "    return 1 / (1 + np.exp(-z))\n",
        "\n",
        "def calc_h(X, theta):\n",
        "    z = np.dot(X, theta)\n",
        "    return sigmoid(z)"
      ],
      "metadata": {
        "id": "LPLGHFvj_hEG"
      },
      "execution_count": 6,
      "outputs": []
    },
    {
      "cell_type": "markdown",
      "source": [
        "Step 5: Initialize Model"
      ],
      "metadata": {
        "id": "ZR6w_Mi7Giib"
      }
    },
    {
      "cell_type": "code",
      "source": [
        "XX = add_intercept(X)\n",
        "theta = np.zeros(XX.shape[1])\n",
        "h = calc_h(XX, theta)\n",
        "\n",
        "print(\"XX:\\n\", XX)\n",
        "print(\"Initial theta:\", theta)\n",
        "print(\"Initial hypothesis h:\\n\", h)\n"
      ],
      "metadata": {
        "colab": {
          "base_uri": "https://localhost:8080/"
        },
        "id": "aHrjAxJX_kTu",
        "outputId": "d47110e0-9b3f-4b9d-f57d-eefaaa7dde21"
      },
      "execution_count": 7,
      "outputs": [
        {
          "output_type": "stream",
          "name": "stdout",
          "text": [
            "XX:\n",
            " [[ 1.         -0.64185521  0.78535215]\n",
            " [ 1.          0.10972634  1.83671408]\n",
            " [ 1.         -1.07362634  2.591487  ]\n",
            " [ 1.         -1.38222372  0.85340843]\n",
            " [ 1.          1.78689446  2.3841826 ]\n",
            " [ 1.          0.94785273  3.53015683]\n",
            " [ 1.          1.08876018  1.35925144]\n",
            " [ 1.          0.42774158  3.54015499]\n",
            " [ 1.         -0.88398194 -0.57876171]\n",
            " [ 1.         -1.59347411  1.2168913 ]]\n",
            "Initial theta: [0. 0. 0.]\n",
            "Initial hypothesis h:\n",
            " [0.5 0.5 0.5 0.5 0.5 0.5 0.5 0.5 0.5 0.5]\n"
          ]
        }
      ]
    },
    {
      "cell_type": "markdown",
      "source": [
        "Step 6: Compute Initial Cost"
      ],
      "metadata": {
        "id": "wTQiYEI9GlcK"
      }
    },
    {
      "cell_type": "code",
      "source": [
        "cost = (-y * np.log(h) - (1 - y) * np.log(1 - h)).mean()\n",
        "print(\"Initial cost:\", cost)"
      ],
      "metadata": {
        "colab": {
          "base_uri": "https://localhost:8080/"
        },
        "id": "UgJziePD_nLh",
        "outputId": "e275a0fe-1bfd-45c7-907b-953ecf1bea08"
      },
      "execution_count": 8,
      "outputs": [
        {
          "output_type": "stream",
          "name": "stdout",
          "text": [
            "Initial cost: 0.6931471805599453\n"
          ]
        }
      ]
    },
    {
      "cell_type": "markdown",
      "source": [
        "Step 7: One Step of Gradient Descent"
      ],
      "metadata": {
        "id": "wqbrlMEZGn1N"
      }
    },
    {
      "cell_type": "code",
      "source": [
        "m = y.size\n",
        "alpha = 0.01\n",
        "\n",
        "gradient = np.dot(XX.T, (h - y)) / m\n",
        "theta -= alpha * gradient\n",
        "\n",
        "print(\"Gradient:\\n\", gradient)\n",
        "print(\"Updated theta:\\n\", theta)\n"
      ],
      "metadata": {
        "colab": {
          "base_uri": "https://localhost:8080/"
        },
        "id": "ERCvTD-h_pxY",
        "outputId": "50eaa9af-5890-4a61-aadc-30a220c7f96b"
      },
      "execution_count": 9,
      "outputs": [
        {
          "output_type": "stream",
          "name": "stdout",
          "text": [
            "Gradient:\n",
            " [0.         0.49680683 0.38910414]\n",
            "Updated theta:\n",
            " [ 0.         -0.00496807 -0.00389104]\n"
          ]
        }
      ]
    },
    {
      "cell_type": "markdown",
      "source": [
        "Step 8: Train with Gradient Descent"
      ],
      "metadata": {
        "id": "tKwiJmklG5U-"
      }
    },
    {
      "cell_type": "code",
      "source": [
        "num_iter = 100000\n",
        "cost_list = []\n",
        "\n",
        "for i in range(num_iter):\n",
        "    h = calc_h(XX, theta)\n",
        "    cost = (-y * np.log(h) - (1 - y) * np.log(1 - h)).mean()\n",
        "    cost_list.append(cost)\n",
        "\n",
        "    gradient = np.dot(XX.T, (h - y)) / m\n",
        "    theta -= alpha * gradient\n",
        "\n",
        "    if i % 10000 == 0:\n",
        "        print(f\"Cost at iteration {i}: {cost:.6f}\")\n",
        "\n",
        "print(\"Final theta:\", theta)\n"
      ],
      "metadata": {
        "colab": {
          "base_uri": "https://localhost:8080/"
        },
        "id": "cPeD0iG1_sPh",
        "outputId": "fe068da0-0ab8-486b-d83c-c92769e3351b"
      },
      "execution_count": 10,
      "outputs": [
        {
          "output_type": "stream",
          "name": "stdout",
          "text": [
            "Cost at iteration 0: 0.689180\n",
            "Cost at iteration 10000: 0.029019\n",
            "Cost at iteration 20000: 0.016868\n",
            "Cost at iteration 30000: 0.011988\n",
            "Cost at iteration 40000: 0.009316\n",
            "Cost at iteration 50000: 0.007623\n",
            "Cost at iteration 60000: 0.006453\n",
            "Cost at iteration 70000: 0.005595\n",
            "Cost at iteration 80000: 0.004939\n",
            "Cost at iteration 90000: 0.004420\n",
            "Final theta: [ 0.66203066 -8.49512412 -1.97751376]\n"
          ]
        }
      ]
    },
    {
      "cell_type": "markdown",
      "source": [
        "Step 9: Plot Loss Curve"
      ],
      "metadata": {
        "id": "oPcpwTZfG9MZ"
      }
    },
    {
      "cell_type": "code",
      "source": [
        "plt.plot(range(num_iter), cost_list)\n",
        "plt.title(\"Loss Curve\")\n",
        "plt.xlabel(\"Iterations\")\n",
        "plt.ylabel(\"Loss\")\n",
        "plt.grid(True)\n",
        "plt.show()\n"
      ],
      "metadata": {
        "colab": {
          "base_uri": "https://localhost:8080/",
          "height": 472
        },
        "id": "HaKB2U5K_vML",
        "outputId": "e8eb65f5-7b89-4a00-c350-7f9a8f711137"
      },
      "execution_count": 11,
      "outputs": [
        {
          "output_type": "display_data",
          "data": {
            "text/plain": [
              "<Figure size 640x480 with 1 Axes>"
            ],
            "image/png": "[encoded data removed]"
          },
          "metadata": {}
        }
      ]
    },
    {
      "cell_type": "markdown",
      "source": [
        "Step 10: Predict and Evaluate"
      ],
      "metadata": {
        "id": "COXtRasNG_ts"
      }
    },
    {
      "cell_type": "code",
      "source": [
        "preds_prob = calc_h(XX, theta)\n",
        "preds = preds_prob.round()\n",
        "\n",
        "print(\"Predicted probabilities:\\n\", preds_prob)\n",
        "print(\"Predicted classes:\\n\", preds)\n"
      ],
      "metadata": {
        "colab": {
          "base_uri": "https://localhost:8080/"
        },
        "id": "X0i-Gbvj_zEK",
        "outputId": "60494f1c-1a27-42af-8dba-b4874a997553"
      },
      "execution_count": 12,
      "outputs": [
        {
          "output_type": "stream",
          "name": "stdout",
          "text": [
            "Predicted probabilities:\n",
            " [9.89662906e-01 1.97968770e-02 9.90602955e-01 9.99977826e-01\n",
            " 4.43999108e-09 5.73774026e-07 1.26852162e-05 4.66685994e-05\n",
            " 9.99910042e-01 9.99992438e-01]\n",
            "Predicted classes:\n",
            " [1. 0. 1. 1. 0. 0. 0. 0. 1. 1.]\n"
          ]
        }
      ]
    },
    {
      "cell_type": "code",
      "source": [
        "accuracy = (preds == y).mean()\n",
        "print(f\"Training Accuracy (NumPy): {accuracy:.2f}\")\n"
      ],
      "metadata": {
        "colab": {
          "base_uri": "https://localhost:8080/"
        },
        "id": "91zcteCK_1ys",
        "outputId": "d7748f27-8c0e-4716-eebc-f5f4bd1171b9"
      },
      "execution_count": 13,
      "outputs": [
        {
          "output_type": "stream",
          "name": "stdout",
          "text": [
            "Training Accuracy (NumPy): 1.00\n"
          ]
        }
      ]
    },
    {
      "cell_type": "markdown",
      "source": [
        "Step 11: Predict New Point"
      ],
      "metadata": {
        "id": "ff4aRZZMHFVQ"
      }
    },
    {
      "cell_type": "code",
      "source": [
        "new_x = np.array([1, -0.8, 0.8])  # intercept = 1, x1 = -0.8, x2 = 0.8\n",
        "new_pred_prob = calc_h(new_x, theta)\n",
        "print(\"Prediction for new sample:\", new_pred_prob.round())\n"
      ],
      "metadata": {
        "colab": {
          "base_uri": "https://localhost:8080/"
        },
        "id": "VnKAV00x_4KL",
        "outputId": "1111f212-949a-4e6b-9c38-11ef8a904af7"
      },
      "execution_count": 14,
      "outputs": [
        {
          "output_type": "stream",
          "name": "stdout",
          "text": [
            "Prediction for new sample: 1.0\n"
          ]
        }
      ]
    },
    {
      "cell_type": "markdown",
      "source": [
        "Step 12: Plot Decision Boundary"
      ],
      "metadata": {
        "id": "lNznRFJJHKjH"
      }
    },
    {
      "cell_type": "code",
      "source": [
        "plt.figure(figsize=(10, 6))\n",
        "x1_min, x1_max = X[:, 0].min(), X[:, 0].max()\n",
        "x2_min, x2_max = X[:, 1].min(), X[:, 1].max()\n",
        "xx1, xx2 = np.meshgrid(np.linspace(x1_min, x1_max, 200),\n",
        "                       np.linspace(x2_min, x2_max, 200))\n",
        "\n",
        "grid = np.c_[xx1.ravel(), xx2.ravel()]\n",
        "grid_with_intercept = add_intercept(grid)\n",
        "probs = calc_h(grid_with_intercept, theta).reshape(xx1.shape)\n",
        "\n",
        "plt.contourf(xx1, xx2, probs, levels=25, cmap=plt.cm.Spectral, alpha=0.8)\n",
        "plt.contour(xx1, xx2, probs, [0.5], linewidths=2, colors='black')\n",
        "plt.scatter(X[:, 0], X[:, 1], c=y, s=40, cmap=plt.cm.Spectral, edgecolors='black')\n",
        "plt.plot(-0.8, 0.8, 'bx', markersize=12, label=\"New Observation\")\n",
        "plt.xlabel(\"$X_1$\")\n",
        "plt.ylabel(\"$X_2$\")\n",
        "plt.title(\"Decision Boundary\")\n",
        "plt.legend()\n",
        "plt.show()\n"
      ],
      "metadata": {
        "colab": {
          "base_uri": "https://localhost:8080/",
          "height": 484
        },
        "id": "mBYOqkjI_6e-",
        "outputId": "e7272163-179b-4a61-ad99-bed0f1fcf2db"
      },
      "execution_count": 15,
      "outputs": [
        {
          "output_type": "display_data",
          "data": {
            "text/plain": [
              "<Figure size 1000x600 with 1 Axes>"
            ],
            "image/png": "[encoded data removed]"
          },
          "metadata": {}
        }
      ]
    },
    {
      "cell_type": "markdown",
      "source": [
        "Step 13: Compare with Scikit-learn"
      ],
      "metadata": {
        "id": "njh1E_a0HPjc"
      }
    },
    {
      "cell_type": "code",
      "source": [
        "model = LogisticRegression(C=1e20, solver='lbfgs')\n",
        "model.fit(X, y)\n",
        "\n",
        "preds_sklearn = model.predict(X)\n",
        "score_sklearn = (preds_sklearn == y).mean()\n",
        "\n",
        "print(f\"Training Accuracy (scikit-learn): {score_sklearn}\")\n",
        "print(\"Intercept:\", model.intercept_)\n",
        "print(\"Coefficients:\", model.coef_)\n"
      ],
      "metadata": {
        "colab": {
          "base_uri": "https://localhost:8080/"
        },
        "id": "Pu29t1x8_9iH",
        "outputId": "415949f4-759a-49f2-ede1-9be23f383e0c"
      },
      "execution_count": 16,
      "outputs": [
        {
          "output_type": "stream",
          "name": "stdout",
          "text": [
            "Training Accuracy (scikit-learn): 1.0\n",
            "Intercept: [0.27561212]\n",
            "Coefficients: [[-14.70501451  -3.00497196]]\n"
          ]
        }
      ]
    },
    {
      "cell_type": "markdown",
      "source": [
        "**Final comparison printout**"
      ],
      "metadata": {
        "id": "EBAzbmTpHSvU"
      }
    },
    {
      "cell_type": "code",
      "source": [
        "# Final comparison printout\n",
        "print(f\"\\n{'Model':<25} {'Accuracy'}\")\n",
        "print(f\"{'From Scratch (NumPy)':<25} {accuracy:.2f}\")\n",
        "print(f\"{'Scikit-learn':<25} {score_sklearn:.2f}\")"
      ],
      "metadata": {
        "colab": {
          "base_uri": "https://localhost:8080/"
        },
        "id": "MjUreJQ9FWeZ",
        "outputId": "ab735694-cd06-4ded-c361-1ad32bd0c81e"
      },
      "execution_count": 18,
      "outputs": [
        {
          "output_type": "stream",
          "name": "stdout",
          "text": [
            "\n",
            "Model                     Accuracy\n",
            "From Scratch (NumPy)      1.00\n",
            "Scikit-learn              1.00\n"
          ]
        }
      ]
    }
  ]
}